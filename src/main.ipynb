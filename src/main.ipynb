{
 "cells": [
  {
   "cell_type": "code",
   "execution_count": null,
   "metadata": {},
   "outputs": [],
   "source": [
    "from utils.read_file import get_lines, get_mode_length, get_random_string, get_strings_from_features\n",
    "from metrics.scores.accuracy import get_accurancy_from_list\n",
    "from ranking.ranking import rank_strings\n",
    "from utils.stop_words import EXTENDED_STOP_WORDS"
   ]
  },
  {
   "cell_type": "code",
   "execution_count": null,
   "metadata": {},
   "outputs": [],
   "source": [
    "DATASET = get_lines('./data/input_data.txt')\n",
    "INPUT_STRING = \"\"\n",
    "EXPECTED = []\n",
    "\n",
    "# ? CASO PERFETTO\n",
    "# INPUT_STRING = \"MORTADELLA\"\n",
    "# EXPECTED = get_strings_from_features(DATASET, [\"MORTADELLA\"])\n",
    "\n",
    "# ? CASO CON MANCANZA DI UNA PAROLA\n",
    "# INPUT_STRING = \"4 FORMAGGI pizza\"\n",
    "# EXPECTED = get_strings_from_features(DATASET, [\"formaggi\", \"pizza\", \"4\"])\n",
    "\n",
    "# ? CASO CON SPOSTAMENTO DELLE PAROLE\n",
    "# INPUT_STRING = \"PIZZA 4 FORMAGGI 28\"\n",
    "\n",
    "# ? CASO CON ERRORE NELLA SCRITTURA\n",
    "# INPUT_STRING = \"panch\"\n",
    "# EXPECTED = get_strings_from_features(DATASET, [\"punch\"])\n",
    "\n",
    "# ? CASO CON IMPERFEZZIONI E TRONCAMENTI DELLE PAROLE\n",
    "# INPUT_STRING = \"CHEESECAKE F BOSC\"\n",
    "# EXPECTED = get_strings_from_features(DATASET, [\"cheesecake\", \"cheese cake\", \"frutti\", \"bosco\"], mcf=2)\n",
    "\n",
    "# ? CASO CON SCRITTA RANDOMICA DI LUNGHEZZA PARI ALLA MODA\n",
    "mode_length = get_mode_length(DATASET)\n",
    "INPUT_STRING = get_random_string(DATASET, length=mode_length)\n",
    "splitted = list(filter(lambda x: x not in EXTENDED_STOP_WORDS, INPUT_STRING.split()))\n",
    "EXPECTED = get_strings_from_features(DATASET, splitted)\n",
    "\n",
    "# ? CASO CON SCRITTA LUNGA DA FATTURA\n",
    "# INPUT_STRING = \"dec. chrys sa madiba 5 colour rainbow mi 55 9 chrysanthemum tros santini madiba gemen\"\n",
    "\n",
    "# ? CASO CON LA SCRITTA PIÙ LUNGA\n",
    "# INPUT_STRING = \"HOTELINCLOUD PAGAMENTI ON-LINE E PRE-AUTORIZZAZIONI LICENZA ANNUALE HOTELINCLOUD Periodo dal 01/01/2023 al 31/12/2023 P.V. CITY CENTER ROOMS AND APARTMENTS + TRE MARCHETTI PIAZZA BRA' 22 VERONA - VR\"\n",
    "\n",
    "# ? CASO CON LA SCRITTA PIÙ CORTA\n",
    "# INPUT_STRING = \"uva\"\n",
    "# EXPECTED = get_strings_from_features(DATASET, [\"uva\"])\n",
    "\n",
    "# ? CASI PERSONALIZZATI\n",
    "# INPUT_STRING = \"gelato mandorle\"\n",
    "# EXPECTED = get_strings_from_features(DATASET, [\"gelato\", \"mandorle\"])"
   ]
  },
  {
   "cell_type": "code",
   "execution_count": null,
   "metadata": {},
   "outputs": [],
   "source": [
    "print(INPUT_STRING)\n",
    "print(len(INPUT_STRING))\n",
    "print(EXPECTED)\n",
    "print(len(EXPECTED))"
   ]
  },
  {
   "cell_type": "code",
   "execution_count": null,
   "metadata": {},
   "outputs": [],
   "source": [
    "weights = {\n",
    "    'tfidf_cosine': 40,\n",
    "    'tfidf_euclidean': 30,\n",
    "    'fasttext_cosine': 0,\n",
    "    \n",
    "    'jaccard': 0,\n",
    "    'sorensen': 10,\n",
    "    'masi' : 0,\n",
    "    'overlap': 0,\n",
    "\n",
    "    'jaro' : 0,\n",
    "    'jaro_winkler' : 20,\n",
    "    \n",
    "    'original_levenshtein': 0,\n",
    "    'improved_levenshtein': 0,\n",
    "}\n",
    "r1 = rank_strings(weights, INPUT_STRING, DATASET, max_rows=0)"
   ]
  },
  {
   "cell_type": "code",
   "execution_count": null,
   "metadata": {},
   "outputs": [],
   "source": [
    "weights = {\n",
    "    'improved_levenshtein': 100\n",
    "}\n",
    "r2 = rank_strings(weights, INPUT_STRING, DATASET, max_rows=0)"
   ]
  },
  {
   "cell_type": "code",
   "execution_count": null,
   "metadata": {},
   "outputs": [],
   "source": [
    "weights = {\n",
    "    'tfidf_cosine': 20,\n",
    "    'tfidf_euclidean': 20,\n",
    "\n",
    "    'improved_levenshtein': 60\n",
    "}\n",
    "r3 = rank_strings(weights, INPUT_STRING, DATASET, max_rows=0)"
   ]
  },
  {
   "cell_type": "code",
   "execution_count": null,
   "metadata": {},
   "outputs": [],
   "source": [
    "a1 = get_accurancy_from_list(r1, EXPECTED)\n",
    "a2 = get_accurancy_from_list(r2, EXPECTED)\n",
    "a3 = get_accurancy_from_list(r3, EXPECTED)\n",
    "\n",
    "print(a1)\n",
    "print(a2)\n",
    "print(a3)"
   ]
  }
 ],
 "metadata": {
  "kernelspec": {
   "display_name": "Python 3",
   "language": "python",
   "name": "python3"
  },
  "language_info": {
   "codemirror_mode": {
    "name": "ipython",
    "version": 3
   },
   "file_extension": ".py",
   "mimetype": "text/x-python",
   "name": "python",
   "nbconvert_exporter": "python",
   "pygments_lexer": "ipython3",
   "version": "3.11.4"
  }
 },
 "nbformat": 4,
 "nbformat_minor": 2
}
